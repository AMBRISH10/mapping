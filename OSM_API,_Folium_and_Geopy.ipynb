{
  "cells": [
    {
      "cell_type": "markdown",
      "metadata": {
        "id": "U-Ue6HXwXJB7"
      },
      "source": [
        "### Overview\n",
        "\n",
        "This short lesson will demonstrate how to take a postcode or ZIP code - for example, entered by a user from a web form - and do a lookup on that postcode to get more detailed geographical data.\n",
        "\n",
        "This data can be used to, for example, show a map of where your users are located - by transforming postcodes into `latitude` and `longitude`, finding bounding boxes for the postcode boundary, etc.\n",
        "\n",
        "We're going to use the Nominatim OpenStreetMap API to do the lookup. Specifically, we're going to use the search functionality that the API provides - more info on this API [can be found here](https://nominatim.org/release-docs/latest/api/Search/).\n",
        "\n",
        "To make HTTP requests to this API, we'll use the `requests` package."
      ]
    },
    {
      "cell_type": "code",
      "execution_count": null,
      "metadata": {
        "id": "itDoIPpHZ_bO"
      },
      "outputs": [],
      "source": [
        "-m pip install ipykernel -U --user --force-reinstall"
      ]
    },
    {
      "cell_type": "code",
      "execution_count": 1,
      "metadata": {
        "id": "f811x6NxW4E1"
      },
      "outputs": [],
      "source": [
        "import requests\n",
        "from pprint import pprint"
      ]
    },
    {
      "cell_type": "markdown",
      "metadata": {
        "id": "sbUS1RVjYZuO"
      },
      "source": [
        "Let's define the base URL for the Nominatim API. We specify `format=json` because we want the output in JSON - however, other types are available (for example, XML and GeoJSON)."
      ]
    },
    {
      "cell_type": "code",
      "execution_count": 2,
      "metadata": {
        "id": "VlgPk4ZJYcyg"
      },
      "outputs": [],
      "source": [
        "BASE_URL = 'https://nominatim.openstreetmap.org/search?format=json'"
      ]
    },
    {
      "cell_type": "markdown",
      "metadata": {
        "id": "NnRtb1vmYtg8"
      },
      "source": [
        "Let's perform a GET request to this endpoint, and pass a postcode and a zipcode to retrieve the geographical information."
      ]
    },
    {
      "cell_type": "code",
      "execution_count": 3,
      "metadata": {
        "colab": {
          "base_uri": "https://localhost:8080/"
        },
        "id": "QXPC-Ry1YzfN",
        "outputId": "9abf22df-1e06-463b-ca94-f083b7520295"
      },
      "outputs": [
        {
          "output_type": "stream",
          "name": "stdout",
          "text": [
            "[{'addresstype': 'postcode',\n",
            "  'boundingbox': ['55.6652300', '55.9852300', '-4.4132000', '-4.0932000'],\n",
            "  'class': 'place',\n",
            "  'display_name': 'Glasgow City, Alba / Scotland, G42 9AY, United Kingdom',\n",
            "  'importance': 0.12500009999999995,\n",
            "  'lat': '55.82523',\n",
            "  'licence': 'Data © OpenStreetMap contributors, ODbL 1.0. '\n",
            "             'http://osm.org/copyright',\n",
            "  'lon': '-4.2532',\n",
            "  'name': 'G42 9AY',\n",
            "  'place_id': 329404231,\n",
            "  'place_rank': 25,\n",
            "  'type': 'postcode'}]\n"
          ]
        }
      ],
      "source": [
        "postcode = 'G42 9AY'\n",
        "\n",
        "response = requests.get(f\"{BASE_URL}&postalcode={postcode}\")\n",
        "data = response.json()\n",
        "pprint(data)"
      ]
    },
    {
      "cell_type": "markdown",
      "metadata": {
        "id": "gMdSKzI-grIX"
      },
      "source": [
        "Let's extract the bounding box and the latitude/longitude."
      ]
    },
    {
      "cell_type": "code",
      "execution_count": 4,
      "metadata": {
        "colab": {
          "base_uri": "https://localhost:8080/"
        },
        "id": "0F9lt37zgttU",
        "outputId": "66a05050-1b06-4935-eaf6-4f61c20b274d"
      },
      "outputs": [
        {
          "output_type": "stream",
          "name": "stdout",
          "text": [
            "55.82523 -4.2532\n",
            "['55.6652300', '55.9852300', '-4.4132000', '-4.0932000']\n"
          ]
        }
      ],
      "source": [
        "latitude = data[0].get('lat')\n",
        "longitude = data[0].get('lon')\n",
        "print(latitude, longitude)\n",
        "\n",
        "bbox = data[0].get('boundingbox')\n",
        "print(bbox)"
      ]
    },
    {
      "cell_type": "markdown",
      "metadata": {
        "id": "uuKxEbdgazFC"
      },
      "source": [
        "Now, let's look for a generic ZIP code - `2601`.\n",
        "\n"
      ]
    },
    {
      "cell_type": "code",
      "execution_count": 5,
      "metadata": {
        "colab": {
          "base_uri": "https://localhost:8080/"
        },
        "id": "WhJJ1uKtZSnm",
        "outputId": "9f9c0580-b1e8-42c7-b76b-d30745d4638f"
      },
      "outputs": [
        {
          "output_type": "execute_result",
          "data": {
            "text/plain": [
              "[{'place_id': 368562940,\n",
              "  'licence': 'Data © OpenStreetMap contributors, ODbL 1.0. http://osm.org/copyright',\n",
              "  'lat': '-33.64315427173913',\n",
              "  'lon': '-61.85790109642857',\n",
              "  'class': 'place',\n",
              "  'type': 'postcode',\n",
              "  'place_rank': 21,\n",
              "  'importance': 0.22500009999999993,\n",
              "  'addresstype': 'postcode',\n",
              "  'name': '2601',\n",
              "  'display_name': 'Municipio de Murphy, 2601, Departamento General López, Santa Fe, Argentina',\n",
              "  'boundingbox': ['-33.8031543', '-33.4831543', '-62.0179011', '-61.6979011']},\n",
              " {'place_id': 330908002,\n",
              "  'licence': 'Data © OpenStreetMap contributors, ODbL 1.0. http://osm.org/copyright',\n",
              "  'lat': '16.454289474175823',\n",
              "  'lon': '120.59515791593407',\n",
              "  'class': 'place',\n",
              "  'type': 'postcode',\n",
              "  'place_rank': 21,\n",
              "  'importance': 0.22500009999999993,\n",
              "  'addresstype': 'postcode',\n",
              "  'name': '2601',\n",
              "  'display_name': 'La Trinidad, 2601, Benguet, Cordillera Administrative Region, Philippines',\n",
              "  'boundingbox': ['16.2942895', '16.6142895', '120.4351579', '120.7551579']},\n",
              " {'place_id': 328377269,\n",
              "  'licence': 'Data © OpenStreetMap contributors, ODbL 1.0. http://osm.org/copyright',\n",
              "  'lat': '47.889927861253774',\n",
              "  'lon': '16.251586808459212',\n",
              "  'class': 'place',\n",
              "  'type': 'postcode',\n",
              "  'place_rank': 21,\n",
              "  'importance': 0.22500009999999993,\n",
              "  'addresstype': 'postcode',\n",
              "  'name': '2601',\n",
              "  'display_name': 'Gemeinde Sollenau, Bezirk Wiener Neustadt, 2601, Niederösterreich, Österreich',\n",
              "  'boundingbox': ['47.7299279', '48.0499279', '16.0915868', '16.4115868']},\n",
              " {'place_id': 328379860,\n",
              "  'licence': 'Data © OpenStreetMap contributors, ODbL 1.0. http://osm.org/copyright',\n",
              "  'lat': '-35.2813927',\n",
              "  'lon': '149.1227649',\n",
              "  'class': 'place',\n",
              "  'type': 'postcode',\n",
              "  'place_rank': 21,\n",
              "  'importance': 0.22500009999999993,\n",
              "  'addresstype': 'postcode',\n",
              "  'name': '2601',\n",
              "  'display_name': 'City, Canberra, District of Canberra Central, 2601, Australian Capital Territory, Australia',\n",
              "  'boundingbox': ['-35.4413927', '-35.1213927', '148.9627649', '149.2827649']},\n",
              " {'place_id': 330333669,\n",
              "  'licence': 'Data © OpenStreetMap contributors, ODbL 1.0. http://osm.org/copyright',\n",
              "  'lat': '47.7794369',\n",
              "  'lon': '19.1304672',\n",
              "  'class': 'place',\n",
              "  'type': 'postcode',\n",
              "  'place_rank': 21,\n",
              "  'importance': 0.22500009999999993,\n",
              "  'addresstype': 'postcode',\n",
              "  'name': '2601',\n",
              "  'display_name': 'Vác, Váci járás, Pest vármegye, 2601, Közép-Magyarország, Magyarország',\n",
              "  'boundingbox': ['47.6194369', '47.9394369', '18.9704672', '19.2904672']}]"
            ]
          },
          "metadata": {},
          "execution_count": 5
        }
      ],
      "source": [
        "zipcode = '2601'\n",
        "\n",
        "response = requests.get(f\"{BASE_URL}&postalcode={zipcode}\")\n",
        "response.json()"
      ]
    },
    {
      "cell_type": "markdown",
      "metadata": {
        "id": "dPEJ0xWJbHqL"
      },
      "source": [
        "We can see that there's a lot of results - many different countries have a ZIP code of 2601, including Austria, Australia, Hungary and Italy.\n",
        "\n",
        "We can append another query parameter to narrow this down to one country - let's say Italy. Just add `&country=italia` to the URL!"
      ]
    },
    {
      "cell_type": "code",
      "execution_count": 6,
      "metadata": {
        "id": "FjqWHCR1b3Tf"
      },
      "outputs": [],
      "source": [
        "response = requests.get(f\"{BASE_URL}&postalcode={zipcode}&country=italia\")\n",
        "data = response.json()"
      ]
    },
    {
      "cell_type": "markdown",
      "metadata": {
        "id": "FBLdH4v8ccbQ"
      },
      "source": [
        "Now, we get a list with a single record, for the Italian location with ZIP code 2106.\n",
        "\n",
        "To extract latitude and longitude, we can use the following code."
      ]
    },
    {
      "cell_type": "code",
      "source": [
        "if data:\n",
        "    latitude2 = data[0].get('lat')\n",
        "    longitude2 = data[0].get('lon')\n",
        "    print(latitude2, longitude2)\n",
        "else:\n",
        "    print(\"The data list is empty.\")\n"
      ],
      "metadata": {
        "colab": {
          "base_uri": "https://localhost:8080/"
        },
        "id": "CS1W4lxFai_M",
        "outputId": "ebc463cd-dcbc-458b-e95c-873c9d820f22"
      },
      "execution_count": 9,
      "outputs": [
        {
          "output_type": "stream",
          "name": "stdout",
          "text": [
            "The data list is empty.\n"
          ]
        }
      ]
    },
    {
      "cell_type": "code",
      "execution_count": 7,
      "metadata": {
        "colab": {
          "base_uri": "https://localhost:8080/",
          "height": 227
        },
        "id": "1wqb4X48ch11",
        "outputId": "3256f64d-9272-41ad-dea3-9cf5d7a6eaca"
      },
      "outputs": [
        {
          "output_type": "error",
          "ename": "IndexError",
          "evalue": "list index out of range",
          "traceback": [
            "\u001b[0;31m---------------------------------------------------------------------------\u001b[0m",
            "\u001b[0;31mIndexError\u001b[0m                                Traceback (most recent call last)",
            "\u001b[0;32m<ipython-input-7-e875a561edc4>\u001b[0m in \u001b[0;36m<cell line: 1>\u001b[0;34m()\u001b[0m\n\u001b[0;32m----> 1\u001b[0;31m \u001b[0mlatitude2\u001b[0m \u001b[0;34m=\u001b[0m \u001b[0mdata\u001b[0m\u001b[0;34m[\u001b[0m\u001b[0;36m0\u001b[0m\u001b[0;34m]\u001b[0m\u001b[0;34m.\u001b[0m\u001b[0mget\u001b[0m\u001b[0;34m(\u001b[0m\u001b[0;34m'lat'\u001b[0m\u001b[0;34m)\u001b[0m\u001b[0;34m\u001b[0m\u001b[0;34m\u001b[0m\u001b[0m\n\u001b[0m\u001b[1;32m      2\u001b[0m \u001b[0mlongitude2\u001b[0m \u001b[0;34m=\u001b[0m \u001b[0mdata\u001b[0m\u001b[0;34m[\u001b[0m\u001b[0;36m0\u001b[0m\u001b[0;34m]\u001b[0m\u001b[0;34m.\u001b[0m\u001b[0mget\u001b[0m\u001b[0;34m(\u001b[0m\u001b[0;34m'lon'\u001b[0m\u001b[0;34m)\u001b[0m\u001b[0;34m\u001b[0m\u001b[0;34m\u001b[0m\u001b[0m\n\u001b[1;32m      3\u001b[0m \u001b[0;34m\u001b[0m\u001b[0m\n\u001b[1;32m      4\u001b[0m \u001b[0mprint\u001b[0m\u001b[0;34m(\u001b[0m\u001b[0mlatitude2\u001b[0m\u001b[0;34m,\u001b[0m \u001b[0mlongitude2\u001b[0m\u001b[0;34m)\u001b[0m\u001b[0;34m\u001b[0m\u001b[0;34m\u001b[0m\u001b[0m\n",
            "\u001b[0;31mIndexError\u001b[0m: list index out of range"
          ]
        }
      ],
      "source": [
        "latitude2 = data[0].get('lat')\n",
        "longitude2 = data[0].get('lon')\n",
        "\n",
        "print(latitude2, longitude2)"
      ]
    },
    {
      "cell_type": "markdown",
      "metadata": {
        "id": "78nA0aBAmiYk"
      },
      "source": [
        "### Mapping the Points\n",
        "\n",
        "Now we'll look quickly at how to plot these points on a map. We'll use Python's `folium` library to do this - it is an interface into the `Leaflet` JavaScript mapping library."
      ]
    },
    {
      "cell_type": "code",
      "source": [
        "latitude = \"9.928310582743\"\n",
        "longitude = \"78.12281896026138\""
      ],
      "metadata": {
        "id": "9QnhjfbncDYQ"
      },
      "execution_count": 18,
      "outputs": []
    },
    {
      "cell_type": "code",
      "source": [
        "latitude2 = \"13.085505095748271\"\n",
        "longitude2 = \"80.27132898126216\""
      ],
      "metadata": {
        "id": "pVBOwVJ_a1r6"
      },
      "execution_count": 19,
      "outputs": []
    },
    {
      "cell_type": "code",
      "execution_count": 23,
      "metadata": {
        "colab": {
          "base_uri": "https://localhost:8080/",
          "height": 865
        },
        "id": "UP_-ne9DXIFI",
        "outputId": "9324c17a-6aae-4f10-bad0-d2e67a881a42"
      },
      "outputs": [
        {
          "output_type": "execute_result",
          "data": {
            "text/plain": [
              "<folium.folium.Map at 0x785ad86f4070>"
            ],
            "text/html": [
              "<div style=\"width:100%;\"><div style=\"position:relative;width:100%;height:0;padding-bottom:60%;\"><span style=\"color:#565656\">Make this Notebook Trusted to load map: File -> Trust Notebook</span><iframe srcdoc=\"&lt;!DOCTYPE html&gt;\n",
              "&lt;html&gt;\n",
              "&lt;head&gt;\n",
              "    \n",
              "    &lt;meta http-equiv=&quot;content-type&quot; content=&quot;text/html; charset=UTF-8&quot; /&gt;\n",
              "    \n",
              "        &lt;script&gt;\n",
              "            L_NO_TOUCH = false;\n",
              "            L_DISABLE_3D = false;\n",
              "        &lt;/script&gt;\n",
              "    \n",
              "    &lt;style&gt;html, body {width: 100%;height: 100%;margin: 0;padding: 0;}&lt;/style&gt;\n",
              "    &lt;style&gt;#map {position:absolute;top:0;bottom:0;right:0;left:0;}&lt;/style&gt;\n",
              "    &lt;script src=&quot;https://cdn.jsdelivr.net/npm/leaflet@1.9.3/dist/leaflet.js&quot;&gt;&lt;/script&gt;\n",
              "    &lt;script src=&quot;https://code.jquery.com/jquery-1.12.4.min.js&quot;&gt;&lt;/script&gt;\n",
              "    &lt;script src=&quot;https://cdn.jsdelivr.net/npm/bootstrap@5.2.2/dist/js/bootstrap.bundle.min.js&quot;&gt;&lt;/script&gt;\n",
              "    &lt;script src=&quot;https://cdnjs.cloudflare.com/ajax/libs/Leaflet.awesome-markers/2.0.2/leaflet.awesome-markers.js&quot;&gt;&lt;/script&gt;\n",
              "    &lt;link rel=&quot;stylesheet&quot; href=&quot;https://cdn.jsdelivr.net/npm/leaflet@1.9.3/dist/leaflet.css&quot;/&gt;\n",
              "    &lt;link rel=&quot;stylesheet&quot; href=&quot;https://cdn.jsdelivr.net/npm/bootstrap@5.2.2/dist/css/bootstrap.min.css&quot;/&gt;\n",
              "    &lt;link rel=&quot;stylesheet&quot; href=&quot;https://netdna.bootstrapcdn.com/bootstrap/3.0.0/css/bootstrap.min.css&quot;/&gt;\n",
              "    &lt;link rel=&quot;stylesheet&quot; href=&quot;https://cdn.jsdelivr.net/npm/@fortawesome/fontawesome-free@6.2.0/css/all.min.css&quot;/&gt;\n",
              "    &lt;link rel=&quot;stylesheet&quot; href=&quot;https://cdnjs.cloudflare.com/ajax/libs/Leaflet.awesome-markers/2.0.2/leaflet.awesome-markers.css&quot;/&gt;\n",
              "    &lt;link rel=&quot;stylesheet&quot; href=&quot;https://cdn.jsdelivr.net/gh/python-visualization/folium/folium/templates/leaflet.awesome.rotate.min.css&quot;/&gt;\n",
              "    \n",
              "            &lt;meta name=&quot;viewport&quot; content=&quot;width=device-width,\n",
              "                initial-scale=1.0, maximum-scale=1.0, user-scalable=no&quot; /&gt;\n",
              "            &lt;style&gt;\n",
              "                #map_36caf0918077e573d36842b964879052 {\n",
              "                    position: relative;\n",
              "                    width: 800.0px;\n",
              "                    height: 400.0px;\n",
              "                    left: 0.0%;\n",
              "                    top: 0.0%;\n",
              "                }\n",
              "                .leaflet-container { font-size: 1rem; }\n",
              "            &lt;/style&gt;\n",
              "        \n",
              "&lt;/head&gt;\n",
              "&lt;body&gt;\n",
              "    \n",
              "    \n",
              "            &lt;div class=&quot;folium-map&quot; id=&quot;map_36caf0918077e573d36842b964879052&quot; &gt;&lt;/div&gt;\n",
              "        \n",
              "&lt;/body&gt;\n",
              "&lt;script&gt;\n",
              "    \n",
              "    \n",
              "            var map_36caf0918077e573d36842b964879052 = L.map(\n",
              "                &quot;map_36caf0918077e573d36842b964879052&quot;,\n",
              "                {\n",
              "                    center: [18.651923658538383, 72.9150551991513],\n",
              "                    crs: L.CRS.EPSG3857,\n",
              "                    zoom: 4,\n",
              "                    zoomControl: true,\n",
              "                    preferCanvas: false,\n",
              "                }\n",
              "            );\n",
              "\n",
              "            \n",
              "\n",
              "        \n",
              "    \n",
              "            var tile_layer_2133f73389cf043d34794bec81d48e7e = L.tileLayer(\n",
              "                &quot;https://{s}.tile.openstreetmap.org/{z}/{x}/{y}.png&quot;,\n",
              "                {&quot;attribution&quot;: &quot;Data by \\u0026copy; \\u003ca target=\\&quot;_blank\\&quot; href=\\&quot;http://openstreetmap.org\\&quot;\\u003eOpenStreetMap\\u003c/a\\u003e, under \\u003ca target=\\&quot;_blank\\&quot; href=\\&quot;http://www.openstreetmap.org/copyright\\&quot;\\u003eODbL\\u003c/a\\u003e.&quot;, &quot;detectRetina&quot;: false, &quot;maxNativeZoom&quot;: 18, &quot;maxZoom&quot;: 18, &quot;minZoom&quot;: 0, &quot;noWrap&quot;: false, &quot;opacity&quot;: 1, &quot;subdomains&quot;: &quot;abc&quot;, &quot;tms&quot;: false}\n",
              "            ).addTo(map_36caf0918077e573d36842b964879052);\n",
              "        \n",
              "    \n",
              "            var marker_77ed61f13bf4843a64acdbd8091442a3 = L.marker(\n",
              "                [9.928310582743, 78.12281896026138],\n",
              "                {}\n",
              "            ).addTo(map_36caf0918077e573d36842b964879052);\n",
              "        \n",
              "    \n",
              "        var popup_69ec11ecd71c9ef03e5bd7ed245d20f1 = L.popup({&quot;maxWidth&quot;: &quot;100%&quot;});\n",
              "\n",
              "        \n",
              "            \n",
              "                var html_9e62d0c4e73887b4954683f48fafd6dc = $(`&lt;div id=&quot;html_9e62d0c4e73887b4954683f48fafd6dc&quot; style=&quot;width: 100.0%; height: 100.0%;&quot;&gt;Madurai&lt;/div&gt;`)[0];\n",
              "                popup_69ec11ecd71c9ef03e5bd7ed245d20f1.setContent(html_9e62d0c4e73887b4954683f48fafd6dc);\n",
              "            \n",
              "        \n",
              "\n",
              "        marker_77ed61f13bf4843a64acdbd8091442a3.bindPopup(popup_69ec11ecd71c9ef03e5bd7ed245d20f1)\n",
              "        ;\n",
              "\n",
              "        \n",
              "    \n",
              "    \n",
              "            var marker_98a8e40864044e4506c331804f6357f6 = L.marker(\n",
              "                [13.085505095748271, 80.27132898126216],\n",
              "                {}\n",
              "            ).addTo(map_36caf0918077e573d36842b964879052);\n",
              "        \n",
              "    \n",
              "        var popup_cffb4aa373c17e77ad58cb5034eca43b = L.popup({&quot;maxWidth&quot;: &quot;100%&quot;});\n",
              "\n",
              "        \n",
              "            \n",
              "                var html_1c95dab66ce80d0ae552b9a797cfd040 = $(`&lt;div id=&quot;html_1c95dab66ce80d0ae552b9a797cfd040&quot; style=&quot;width: 100.0%; height: 100.0%;&quot;&gt;Chennai&lt;/div&gt;`)[0];\n",
              "                popup_cffb4aa373c17e77ad58cb5034eca43b.setContent(html_1c95dab66ce80d0ae552b9a797cfd040);\n",
              "            \n",
              "        \n",
              "\n",
              "        marker_98a8e40864044e4506c331804f6357f6.bindPopup(popup_cffb4aa373c17e77ad58cb5034eca43b)\n",
              "        ;\n",
              "\n",
              "        \n",
              "    \n",
              "&lt;/script&gt;\n",
              "&lt;/html&gt;\" style=\"position:absolute;width:100%;height:100%;left:0;top:0;border:none !important;\" allowfullscreen webkitallowfullscreen mozallowfullscreen></iframe></div></div>"
            ]
          },
          "metadata": {},
          "execution_count": 23
        }
      ],
      "source": [
        "import folium\n",
        "\n",
        "# create tuples representing our location\n",
        "location = float(latitude), float(longitude)\n",
        "location2 = float(latitude2), float(longitude2)\n",
        "\n",
        "# center the map at Amsterdam\n",
        "amsterdam = (18.651923658538383, 72.9150551991513)\n",
        "\n",
        "# create a Folium map centred at the above location\n",
        "m = folium.Map(location=amsterdam, zoom_start=4, width=800, height=400)\n",
        "\n",
        "# add markers at the locations\n",
        "folium.Marker(location, popup=\"Madurai\").add_to(m)\n",
        "folium.Marker(location2, popup=\"Chennai\").add_to(m)\n",
        "\n",
        "m"
      ]
    },
    {
      "cell_type": "code",
      "source": [],
      "metadata": {
        "id": "EW__Ivzlm7Bj"
      },
      "execution_count": null,
      "outputs": []
    },
    {
      "cell_type": "code",
      "execution_count": 26,
      "metadata": {
        "colab": {
          "base_uri": "https://localhost:8080/"
        },
        "id": "Kg4FcFexhIn1",
        "outputId": "515968d9-a1dc-4800-abd3-ac2fac012a58"
      },
      "outputs": [
        {
          "output_type": "stream",
          "name": "stdout",
          "text": [
            "(9.928310582743, 78.12281896026138)\n",
            "(13.085505095748271, 80.27132898126216)\n",
            "(11.506907839245635, 79.19707397076178)\n"
          ]
        }
      ],
      "source": [
        "# generator expression to compute midpoint of the two locations\n",
        "# this works because both locations are of form: (lat, long)\n",
        "# zipping them together allows us to iterate over both lats at once,\n",
        "# and then both lons at once\n",
        "midpoint_gen = ((x+y)/2 for x,y in zip(location, location2))\n",
        "\n",
        "# convert generator to a tuple representing lat/longitude of the midpoint\n",
        "midpoint = tuple(midpoint_gen)\n",
        "\n",
        "print(location)\n",
        "print(location2)\n",
        "print(midpoint)"
      ]
    },
    {
      "cell_type": "markdown",
      "metadata": {
        "id": "nm3MTojAjFhB"
      },
      "source": [
        "Now, let's centre map at midpoint we found above, and display all the markers for each position."
      ]
    },
    {
      "cell_type": "code",
      "execution_count": null,
      "metadata": {
        "colab": {
          "base_uri": "https://localhost:8080/",
          "height": 781
        },
        "id": "fd_re8TvjJg0",
        "outputId": "f445fd59-f12f-4168-9e4b-b33daab91c24"
      },
      "outputs": [
        {
          "data": {
            "text/html": [
              "<div style=\"width:100%;\"><div style=\"position:relative;width:100%;height:0;padding-bottom:60%;\"><span style=\"color:#565656\">Make this Notebook Trusted to load map: File -> Trust Notebook</span><iframe src=\"about:blank\" style=\"position:absolute;width:100%;height:100%;left:0;top:0;border:none !important;\" data-html=%3C%21DOCTYPE%20html%3E%0A%3Chead%3E%20%20%20%20%0A%20%20%20%20%3Cmeta%20http-equiv%3D%22content-type%22%20content%3D%22text/html%3B%20charset%3DUTF-8%22%20/%3E%0A%20%20%20%20%3Cscript%3EL_PREFER_CANVAS%3Dfalse%3B%20L_NO_TOUCH%3Dfalse%3B%20L_DISABLE_3D%3Dfalse%3B%3C/script%3E%0A%20%20%20%20%3Cscript%20src%3D%22https%3A//cdn.jsdelivr.net/npm/leaflet%401.4.0/dist/leaflet.js%22%3E%3C/script%3E%0A%20%20%20%20%3Cscript%20src%3D%22https%3A//code.jquery.com/jquery-1.12.4.min.js%22%3E%3C/script%3E%0A%20%20%20%20%3Cscript%20src%3D%22https%3A//maxcdn.bootstrapcdn.com/bootstrap/3.2.0/js/bootstrap.min.js%22%3E%3C/script%3E%0A%20%20%20%20%3Cscript%20src%3D%22https%3A//cdnjs.cloudflare.com/ajax/libs/Leaflet.awesome-markers/2.0.2/leaflet.awesome-markers.js%22%3E%3C/script%3E%0A%20%20%20%20%3Clink%20rel%3D%22stylesheet%22%20href%3D%22https%3A//cdn.jsdelivr.net/npm/leaflet%401.4.0/dist/leaflet.css%22/%3E%0A%20%20%20%20%3Clink%20rel%3D%22stylesheet%22%20href%3D%22https%3A//maxcdn.bootstrapcdn.com/bootstrap/3.2.0/css/bootstrap.min.css%22/%3E%0A%20%20%20%20%3Clink%20rel%3D%22stylesheet%22%20href%3D%22https%3A//maxcdn.bootstrapcdn.com/bootstrap/3.2.0/css/bootstrap-theme.min.css%22/%3E%0A%20%20%20%20%3Clink%20rel%3D%22stylesheet%22%20href%3D%22https%3A//maxcdn.bootstrapcdn.com/font-awesome/4.6.3/css/font-awesome.min.css%22/%3E%0A%20%20%20%20%3Clink%20rel%3D%22stylesheet%22%20href%3D%22https%3A//cdnjs.cloudflare.com/ajax/libs/Leaflet.awesome-markers/2.0.2/leaflet.awesome-markers.css%22/%3E%0A%20%20%20%20%3Clink%20rel%3D%22stylesheet%22%20href%3D%22https%3A//rawcdn.githack.com/python-visualization/folium/master/folium/templates/leaflet.awesome.rotate.css%22/%3E%0A%20%20%20%20%3Cstyle%3Ehtml%2C%20body%20%7Bwidth%3A%20100%25%3Bheight%3A%20100%25%3Bmargin%3A%200%3Bpadding%3A%200%3B%7D%3C/style%3E%0A%20%20%20%20%3Cstyle%3E%23map%20%7Bposition%3Aabsolute%3Btop%3A0%3Bbottom%3A0%3Bright%3A0%3Bleft%3A0%3B%7D%3C/style%3E%0A%20%20%20%20%0A%20%20%20%20%3Cmeta%20name%3D%22viewport%22%20content%3D%22width%3Ddevice-width%2C%0A%20%20%20%20%20%20%20%20initial-scale%3D1.0%2C%20maximum-scale%3D1.0%2C%20user-scalable%3Dno%22%20/%3E%0A%20%20%20%20%3Cstyle%3E%23map_c7f7e66ee0004dcb9bb75736988a3d62%20%7B%0A%20%20%20%20%20%20%20%20position%3A%20relative%3B%0A%20%20%20%20%20%20%20%20width%3A%20800.0px%3B%0A%20%20%20%20%20%20%20%20height%3A%20400.0px%3B%0A%20%20%20%20%20%20%20%20left%3A%200.0%25%3B%0A%20%20%20%20%20%20%20%20top%3A%200.0%25%3B%0A%20%20%20%20%20%20%20%20%7D%0A%20%20%20%20%3C/style%3E%0A%3C/head%3E%0A%3Cbody%3E%20%20%20%20%0A%20%20%20%20%0A%20%20%20%20%3Cdiv%20class%3D%22folium-map%22%20id%3D%22map_c7f7e66ee0004dcb9bb75736988a3d62%22%20%3E%3C/div%3E%0A%3C/body%3E%0A%3Cscript%3E%20%20%20%20%0A%20%20%20%20%0A%20%20%20%20%0A%20%20%20%20%20%20%20%20var%20bounds%20%3D%20null%3B%0A%20%20%20%20%0A%0A%20%20%20%20var%20map_c7f7e66ee0004dcb9bb75736988a3d62%20%3D%20L.map%28%0A%20%20%20%20%20%20%20%20%27map_c7f7e66ee0004dcb9bb75736988a3d62%27%2C%20%7B%0A%20%20%20%20%20%20%20%20center%3A%20%5B50.57791702829637%2C%202.7608437060390125%5D%2C%0A%20%20%20%20%20%20%20%20zoom%3A%204%2C%0A%20%20%20%20%20%20%20%20maxBounds%3A%20bounds%2C%0A%20%20%20%20%20%20%20%20layers%3A%20%5B%5D%2C%0A%20%20%20%20%20%20%20%20worldCopyJump%3A%20false%2C%0A%20%20%20%20%20%20%20%20crs%3A%20L.CRS.EPSG3857%2C%0A%20%20%20%20%20%20%20%20zoomControl%3A%20true%2C%0A%20%20%20%20%20%20%20%20%7D%29%3B%0A%0A%0A%20%20%20%20%0A%20%20%20%20var%20tile_layer_db292ab62a614b168084e8aec843c10c%20%3D%20L.tileLayer%28%0A%20%20%20%20%20%20%20%20%27https%3A//%7Bs%7D.tile.openstreetmap.org/%7Bz%7D/%7Bx%7D/%7By%7D.png%27%2C%0A%20%20%20%20%20%20%20%20%7B%0A%20%20%20%20%20%20%20%20%22attribution%22%3A%20null%2C%0A%20%20%20%20%20%20%20%20%22detectRetina%22%3A%20false%2C%0A%20%20%20%20%20%20%20%20%22maxNativeZoom%22%3A%2018%2C%0A%20%20%20%20%20%20%20%20%22maxZoom%22%3A%2018%2C%0A%20%20%20%20%20%20%20%20%22minZoom%22%3A%200%2C%0A%20%20%20%20%20%20%20%20%22noWrap%22%3A%20false%2C%0A%20%20%20%20%20%20%20%20%22opacity%22%3A%201%2C%0A%20%20%20%20%20%20%20%20%22subdomains%22%3A%20%22abc%22%2C%0A%20%20%20%20%20%20%20%20%22tms%22%3A%20false%0A%7D%29.addTo%28map_c7f7e66ee0004dcb9bb75736988a3d62%29%3B%0A%20%20%20%20%0A%20%20%20%20%20%20%20%20var%20marker_1775744a79084d60b1f25e51e8de45e7%20%3D%20L.marker%28%0A%20%20%20%20%20%20%20%20%20%20%20%20%5B55.82523420659273%2C%20-4.253199587921969%5D%2C%0A%20%20%20%20%20%20%20%20%20%20%20%20%7B%0A%20%20%20%20%20%20%20%20%20%20%20%20%20%20%20%20icon%3A%20new%20L.Icon.Default%28%29%2C%0A%20%20%20%20%20%20%20%20%20%20%20%20%20%20%20%20%7D%0A%20%20%20%20%20%20%20%20%20%20%20%20%29.addTo%28map_c7f7e66ee0004dcb9bb75736988a3d62%29%3B%0A%20%20%20%20%20%20%20%20%0A%20%20%20%20%0A%20%20%20%20%20%20%20%20%20%20%20%20var%20popup_cec764327cd8444588e39eafa1f1b0be%20%3D%20L.popup%28%7BmaxWidth%3A%20%27100%25%27%0A%20%20%20%20%20%20%20%20%20%20%20%20%0A%20%20%20%20%20%20%20%20%20%20%20%20%7D%29%3B%0A%0A%20%20%20%20%20%20%20%20%20%20%20%20%0A%20%20%20%20%20%20%20%20%20%20%20%20%20%20%20%20var%20html_544b8812fc364db691f1519d2258fb57%20%3D%20%24%28%60%3Cdiv%20id%3D%22html_544b8812fc364db691f1519d2258fb57%22%20style%3D%22width%3A%20100.0%25%3B%20height%3A%20100.0%25%3B%22%3EThe%20postcode%20brought%20me%20here%3C/div%3E%60%29%5B0%5D%3B%0A%20%20%20%20%20%20%20%20%20%20%20%20%20%20%20%20popup_cec764327cd8444588e39eafa1f1b0be.setContent%28html_544b8812fc364db691f1519d2258fb57%29%3B%0A%20%20%20%20%20%20%20%20%20%20%20%20%0A%0A%20%20%20%20%20%20%20%20%20%20%20%20marker_1775744a79084d60b1f25e51e8de45e7.bindPopup%28popup_cec764327cd8444588e39eafa1f1b0be%29%0A%20%20%20%20%20%20%20%20%20%20%20%20%3B%0A%0A%20%20%20%20%20%20%20%20%20%20%20%20%0A%20%20%20%20%20%20%20%20%0A%20%20%20%20%0A%20%20%20%20%20%20%20%20var%20marker_388a25b8529b430bbac318318b47603d%20%3D%20L.marker%28%0A%20%20%20%20%20%20%20%20%20%20%20%20%5B45.33059985%2C%209.774886999999994%5D%2C%0A%20%20%20%20%20%20%20%20%20%20%20%20%7B%0A%20%20%20%20%20%20%20%20%20%20%20%20%20%20%20%20icon%3A%20new%20L.Icon.Default%28%29%2C%0A%20%20%20%20%20%20%20%20%20%20%20%20%20%20%20%20%7D%0A%20%20%20%20%20%20%20%20%20%20%20%20%29.addTo%28map_c7f7e66ee0004dcb9bb75736988a3d62%29%3B%0A%20%20%20%20%20%20%20%20%0A%20%20%20%20%0A%20%20%20%20%20%20%20%20%20%20%20%20var%20popup_de675256b2474674a5417407ecada6dd%20%3D%20L.popup%28%7BmaxWidth%3A%20%27100%25%27%0A%20%20%20%20%20%20%20%20%20%20%20%20%0A%20%20%20%20%20%20%20%20%20%20%20%20%7D%29%3B%0A%0A%20%20%20%20%20%20%20%20%20%20%20%20%0A%20%20%20%20%20%20%20%20%20%20%20%20%20%20%20%20var%20html_12a1696559ae4da8b0f4a6ef08c40c5c%20%3D%20%24%28%60%3Cdiv%20id%3D%22html_12a1696559ae4da8b0f4a6ef08c40c5c%22%20style%3D%22width%3A%20100.0%25%3B%20height%3A%20100.0%25%3B%22%3EThe%20postcode%20brought%20me%20here%3C/div%3E%60%29%5B0%5D%3B%0A%20%20%20%20%20%20%20%20%20%20%20%20%20%20%20%20popup_de675256b2474674a5417407ecada6dd.setContent%28html_12a1696559ae4da8b0f4a6ef08c40c5c%29%3B%0A%20%20%20%20%20%20%20%20%20%20%20%20%0A%0A%20%20%20%20%20%20%20%20%20%20%20%20marker_388a25b8529b430bbac318318b47603d.bindPopup%28popup_de675256b2474674a5417407ecada6dd%29%0A%20%20%20%20%20%20%20%20%20%20%20%20%3B%0A%0A%20%20%20%20%20%20%20%20%20%20%20%20%0A%20%20%20%20%20%20%20%20%0A%20%20%20%20%0A%20%20%20%20%20%20%20%20var%20marker_ff9119e9ebb64555931b3ebdb264ce03%20%3D%20L.marker%28%0A%20%20%20%20%20%20%20%20%20%20%20%20%5B50.57791702829637%2C%202.7608437060390125%5D%2C%0A%20%20%20%20%20%20%20%20%20%20%20%20%7B%0A%20%20%20%20%20%20%20%20%20%20%20%20%20%20%20%20icon%3A%20new%20L.Icon.Default%28%29%2C%0A%20%20%20%20%20%20%20%20%20%20%20%20%20%20%20%20%7D%0A%20%20%20%20%20%20%20%20%20%20%20%20%29.addTo%28map_c7f7e66ee0004dcb9bb75736988a3d62%29%3B%0A%20%20%20%20%20%20%20%20%0A%20%20%20%20%0A%20%20%20%20%20%20%20%20%20%20%20%20var%20popup_73ede8cbe42f48ec8b071e6a7d18d200%20%3D%20L.popup%28%7BmaxWidth%3A%20%27100%25%27%0A%20%20%20%20%20%20%20%20%20%20%20%20%0A%20%20%20%20%20%20%20%20%20%20%20%20%7D%29%3B%0A%0A%20%20%20%20%20%20%20%20%20%20%20%20%0A%20%20%20%20%20%20%20%20%20%20%20%20%20%20%20%20var%20html_64c0fe2cefc54c6794c9740932a1bf7c%20%3D%20%24%28%60%3Cdiv%20id%3D%22html_64c0fe2cefc54c6794c9740932a1bf7c%22%20style%3D%22width%3A%20100.0%25%3B%20height%3A%20100.0%25%3B%22%3EMiddle%21%3C/div%3E%60%29%5B0%5D%3B%0A%20%20%20%20%20%20%20%20%20%20%20%20%20%20%20%20popup_73ede8cbe42f48ec8b071e6a7d18d200.setContent%28html_64c0fe2cefc54c6794c9740932a1bf7c%29%3B%0A%20%20%20%20%20%20%20%20%20%20%20%20%0A%0A%20%20%20%20%20%20%20%20%20%20%20%20marker_ff9119e9ebb64555931b3ebdb264ce03.bindPopup%28popup_73ede8cbe42f48ec8b071e6a7d18d200%29%0A%20%20%20%20%20%20%20%20%20%20%20%20%3B%0A%0A%20%20%20%20%20%20%20%20%20%20%20%20%0A%20%20%20%20%20%20%20%20%0A%3C/script%3E onload=\"this.contentDocument.open();this.contentDocument.write(    decodeURIComponent(this.getAttribute('data-html')));this.contentDocument.close();\" allowfullscreen webkitallowfullscreen mozallowfullscreen></iframe></div></div>"
            ],
            "text/plain": [
              "<folium.folium.Map at 0x7ffa7fc2d9d0>"
            ]
          },
          "execution_count": 30,
          "metadata": {},
          "output_type": "execute_result"
        }
      ],
      "source": [
        "import folium\n",
        "\n",
        "# create Folium map\n",
        "m = folium.Map(location=midpoint, zoom_start=4, width=800, height=400)\n",
        "\n",
        "# add marker at the locations\n",
        "folium.Marker(location, popup=\"The postcode brought me here\").add_to(m)\n",
        "folium.Marker(location2, popup=\"The postcode brought me here\").add_to(m)\n",
        "folium.Marker(midpoint, popup=\"Middle!\").add_to(m)\n",
        "\n",
        "m"
      ]
    },
    {
      "cell_type": "markdown",
      "metadata": {
        "id": "Za5KZF_Njy_l"
      },
      "source": [
        "### Find the distances between the two points\n",
        "\n",
        "We'll use `geopy` to find the geodesic distances between the points."
      ]
    },
    {
      "cell_type": "code",
      "execution_count": 24,
      "metadata": {
        "colab": {
          "base_uri": "https://localhost:8080/"
        },
        "id": "parGXIGZj8wa",
        "outputId": "36e26b17-958e-421f-b16f-e2526321474e"
      },
      "outputs": [
        {
          "output_type": "stream",
          "name": "stdout",
          "text": [
            "Distance between postcodes:\n",
            "420.59151347147525 km\n",
            "261.3434501706753 miles\n"
          ]
        }
      ],
      "source": [
        "from geopy.distance import distance\n",
        "\n",
        "km = distance(location, location2)\n",
        "miles = distance(location, location2).miles\n",
        "\n",
        "print(\"Distance between postcodes:\")\n",
        "print(f\"{km}\")\n",
        "print(f\"{miles} miles\")"
      ]
    },
    {
      "cell_type": "markdown",
      "metadata": {
        "id": "x49edmJtkZcQ"
      },
      "source": [
        "### Folium bonus - Lines between points.\n",
        "\n",
        "A small but useful feature of Folium is the ability to draw lines between points, using `folium.PolyLine()`. This is shown below, where we connect a line between the two locations."
      ]
    },
    {
      "cell_type": "code",
      "source": [
        "import folium\n",
        "\n",
        "# create a Folium map centred at the above location\n",
        "m = folium.Map(location=midpoint, zoom_start=4, width=800, height=400)\n",
        "\n",
        "# add marker at the locations\n",
        "folium.Marker(location, popup=\"Madurai\").add_to(m)\n",
        "folium.Marker(location2, popup=\"Chennai\").add_to(m)\n",
        "\n",
        "# add line between points\n",
        "folium.PolyLine((location,location2)).add_to(m)\n",
        "# Add popup with distance information\n",
        "folium.Marker(midpoint,popup=\"{km}\").add_to(m)\n"
      ],
      "metadata": {
        "colab": {
          "base_uri": "https://localhost:8080/"
        },
        "id": "i9puqVOVjIBR",
        "outputId": "2a9397f3-b057-4de8-9fb2-b4976a6b408f"
      },
      "execution_count": 34,
      "outputs": [
        {
          "output_type": "execute_result",
          "data": {
            "text/plain": [
              "<folium.map.Marker at 0x785ad84fb0d0>"
            ]
          },
          "metadata": {},
          "execution_count": 34
        }
      ]
    },
    {
      "cell_type": "code",
      "source": [],
      "metadata": {
        "id": "DpSm-bthjH5L"
      },
      "execution_count": null,
      "outputs": []
    },
    {
      "cell_type": "code",
      "execution_count": 32,
      "metadata": {
        "colab": {
          "base_uri": "https://localhost:8080/",
          "height": 865
        },
        "id": "3efwyHCnmBzY",
        "outputId": "80a938ae-7b41-4f43-e0e5-b0b21b1b28a3"
      },
      "outputs": [
        {
          "output_type": "execute_result",
          "data": {
            "text/plain": [
              "<folium.folium.Map at 0x785ad108fa90>"
            ],
            "text/html": [
              "<div style=\"width:100%;\"><div style=\"position:relative;width:100%;height:0;padding-bottom:60%;\"><span style=\"color:#565656\">Make this Notebook Trusted to load map: File -> Trust Notebook</span><iframe srcdoc=\"&lt;!DOCTYPE html&gt;\n",
              "&lt;html&gt;\n",
              "&lt;head&gt;\n",
              "    \n",
              "    &lt;meta http-equiv=&quot;content-type&quot; content=&quot;text/html; charset=UTF-8&quot; /&gt;\n",
              "    \n",
              "        &lt;script&gt;\n",
              "            L_NO_TOUCH = false;\n",
              "            L_DISABLE_3D = false;\n",
              "        &lt;/script&gt;\n",
              "    \n",
              "    &lt;style&gt;html, body {width: 100%;height: 100%;margin: 0;padding: 0;}&lt;/style&gt;\n",
              "    &lt;style&gt;#map {position:absolute;top:0;bottom:0;right:0;left:0;}&lt;/style&gt;\n",
              "    &lt;script src=&quot;https://cdn.jsdelivr.net/npm/leaflet@1.9.3/dist/leaflet.js&quot;&gt;&lt;/script&gt;\n",
              "    &lt;script src=&quot;https://code.jquery.com/jquery-1.12.4.min.js&quot;&gt;&lt;/script&gt;\n",
              "    &lt;script src=&quot;https://cdn.jsdelivr.net/npm/bootstrap@5.2.2/dist/js/bootstrap.bundle.min.js&quot;&gt;&lt;/script&gt;\n",
              "    &lt;script src=&quot;https://cdnjs.cloudflare.com/ajax/libs/Leaflet.awesome-markers/2.0.2/leaflet.awesome-markers.js&quot;&gt;&lt;/script&gt;\n",
              "    &lt;link rel=&quot;stylesheet&quot; href=&quot;https://cdn.jsdelivr.net/npm/leaflet@1.9.3/dist/leaflet.css&quot;/&gt;\n",
              "    &lt;link rel=&quot;stylesheet&quot; href=&quot;https://cdn.jsdelivr.net/npm/bootstrap@5.2.2/dist/css/bootstrap.min.css&quot;/&gt;\n",
              "    &lt;link rel=&quot;stylesheet&quot; href=&quot;https://netdna.bootstrapcdn.com/bootstrap/3.0.0/css/bootstrap.min.css&quot;/&gt;\n",
              "    &lt;link rel=&quot;stylesheet&quot; href=&quot;https://cdn.jsdelivr.net/npm/@fortawesome/fontawesome-free@6.2.0/css/all.min.css&quot;/&gt;\n",
              "    &lt;link rel=&quot;stylesheet&quot; href=&quot;https://cdnjs.cloudflare.com/ajax/libs/Leaflet.awesome-markers/2.0.2/leaflet.awesome-markers.css&quot;/&gt;\n",
              "    &lt;link rel=&quot;stylesheet&quot; href=&quot;https://cdn.jsdelivr.net/gh/python-visualization/folium/folium/templates/leaflet.awesome.rotate.min.css&quot;/&gt;\n",
              "    \n",
              "            &lt;meta name=&quot;viewport&quot; content=&quot;width=device-width,\n",
              "                initial-scale=1.0, maximum-scale=1.0, user-scalable=no&quot; /&gt;\n",
              "            &lt;style&gt;\n",
              "                #map_291c576ef9eb49dfb8c7790d8f0109af {\n",
              "                    position: relative;\n",
              "                    width: 800.0px;\n",
              "                    height: 400.0px;\n",
              "                    left: 0.0%;\n",
              "                    top: 0.0%;\n",
              "                }\n",
              "                .leaflet-container { font-size: 1rem; }\n",
              "            &lt;/style&gt;\n",
              "        \n",
              "&lt;/head&gt;\n",
              "&lt;body&gt;\n",
              "    \n",
              "    \n",
              "            &lt;div class=&quot;folium-map&quot; id=&quot;map_291c576ef9eb49dfb8c7790d8f0109af&quot; &gt;&lt;/div&gt;\n",
              "        \n",
              "&lt;/body&gt;\n",
              "&lt;script&gt;\n",
              "    \n",
              "    \n",
              "            var map_291c576ef9eb49dfb8c7790d8f0109af = L.map(\n",
              "                &quot;map_291c576ef9eb49dfb8c7790d8f0109af&quot;,\n",
              "                {\n",
              "                    center: [11.506907839245635, 79.19707397076178],\n",
              "                    crs: L.CRS.EPSG3857,\n",
              "                    zoom: 4,\n",
              "                    zoomControl: true,\n",
              "                    preferCanvas: false,\n",
              "                }\n",
              "            );\n",
              "\n",
              "            \n",
              "\n",
              "        \n",
              "    \n",
              "            var tile_layer_3d22314363b90f948fa62208f8e4e79a = L.tileLayer(\n",
              "                &quot;https://{s}.tile.openstreetmap.org/{z}/{x}/{y}.png&quot;,\n",
              "                {&quot;attribution&quot;: &quot;Data by \\u0026copy; \\u003ca target=\\&quot;_blank\\&quot; href=\\&quot;http://openstreetmap.org\\&quot;\\u003eOpenStreetMap\\u003c/a\\u003e, under \\u003ca target=\\&quot;_blank\\&quot; href=\\&quot;http://www.openstreetmap.org/copyright\\&quot;\\u003eODbL\\u003c/a\\u003e.&quot;, &quot;detectRetina&quot;: false, &quot;maxNativeZoom&quot;: 18, &quot;maxZoom&quot;: 18, &quot;minZoom&quot;: 0, &quot;noWrap&quot;: false, &quot;opacity&quot;: 1, &quot;subdomains&quot;: &quot;abc&quot;, &quot;tms&quot;: false}\n",
              "            ).addTo(map_291c576ef9eb49dfb8c7790d8f0109af);\n",
              "        \n",
              "    \n",
              "            var marker_65f045d4c361a3848b09be892423fd74 = L.marker(\n",
              "                [9.928310582743, 78.12281896026138],\n",
              "                {}\n",
              "            ).addTo(map_291c576ef9eb49dfb8c7790d8f0109af);\n",
              "        \n",
              "    \n",
              "        var popup_b132a6e13f7f74d17925a87256f1ffca = L.popup({&quot;maxWidth&quot;: &quot;100%&quot;});\n",
              "\n",
              "        \n",
              "            \n",
              "                var html_3a79815858b174026ed4f1715ccff279 = $(`&lt;div id=&quot;html_3a79815858b174026ed4f1715ccff279&quot; style=&quot;width: 100.0%; height: 100.0%;&quot;&gt;Madurai&lt;/div&gt;`)[0];\n",
              "                popup_b132a6e13f7f74d17925a87256f1ffca.setContent(html_3a79815858b174026ed4f1715ccff279);\n",
              "            \n",
              "        \n",
              "\n",
              "        marker_65f045d4c361a3848b09be892423fd74.bindPopup(popup_b132a6e13f7f74d17925a87256f1ffca)\n",
              "        ;\n",
              "\n",
              "        \n",
              "    \n",
              "    \n",
              "            var marker_2843af85f89241e281a083797b03c2a3 = L.marker(\n",
              "                [13.085505095748271, 80.27132898126216],\n",
              "                {}\n",
              "            ).addTo(map_291c576ef9eb49dfb8c7790d8f0109af);\n",
              "        \n",
              "    \n",
              "        var popup_514bd641739bd69c1fc1c2465e7a6f9a = L.popup({&quot;maxWidth&quot;: &quot;100%&quot;});\n",
              "\n",
              "        \n",
              "            \n",
              "                var html_26a6acf110c527b009e536e5a7614db6 = $(`&lt;div id=&quot;html_26a6acf110c527b009e536e5a7614db6&quot; style=&quot;width: 100.0%; height: 100.0%;&quot;&gt;Chennai&lt;/div&gt;`)[0];\n",
              "                popup_514bd641739bd69c1fc1c2465e7a6f9a.setContent(html_26a6acf110c527b009e536e5a7614db6);\n",
              "            \n",
              "        \n",
              "\n",
              "        marker_2843af85f89241e281a083797b03c2a3.bindPopup(popup_514bd641739bd69c1fc1c2465e7a6f9a)\n",
              "        ;\n",
              "\n",
              "        \n",
              "    \n",
              "    \n",
              "            var poly_line_681709ffef01d420264c0382021bab6d = L.polyline(\n",
              "                [[9.928310582743, 78.12281896026138], [13.085505095748271, 80.27132898126216]],\n",
              "                {&quot;bubblingMouseEvents&quot;: true, &quot;color&quot;: &quot;#3388ff&quot;, &quot;dashArray&quot;: null, &quot;dashOffset&quot;: null, &quot;fill&quot;: false, &quot;fillColor&quot;: &quot;#3388ff&quot;, &quot;fillOpacity&quot;: 0.2, &quot;fillRule&quot;: &quot;evenodd&quot;, &quot;lineCap&quot;: &quot;round&quot;, &quot;lineJoin&quot;: &quot;round&quot;, &quot;noClip&quot;: false, &quot;opacity&quot;: 1.0, &quot;smoothFactor&quot;: 1.0, &quot;stroke&quot;: true, &quot;weight&quot;: 3}\n",
              "            ).addTo(map_291c576ef9eb49dfb8c7790d8f0109af);\n",
              "        \n",
              "&lt;/script&gt;\n",
              "&lt;/html&gt;\" style=\"position:absolute;width:100%;height:100%;left:0;top:0;border:none !important;\" allowfullscreen webkitallowfullscreen mozallowfullscreen></iframe></div></div>"
            ]
          },
          "metadata": {},
          "execution_count": 32
        }
      ],
      "source": [
        "import folium\n",
        "\n",
        "# create a Folium map centred at the above location\n",
        "m = folium.Map(location=midpoint, zoom_start=4, width=800, height=400)\n",
        "\n",
        "# add marker at the locations\n",
        "folium.Marker(location, popup=\"Madurai\").add_to(m)\n",
        "folium.Marker(location2, popup=\"Chennai\").add_to(m)\n",
        "\n",
        "# add line between points\n",
        "folium.PolyLine((location,location2)).add_to(m)\n",
        "\n",
        "m"
      ]
    }
  ],
  "metadata": {
    "colab": {
      "provenance": []
    },
    "kernelspec": {
      "display_name": "Python 3",
      "name": "python3"
    },
    "language_info": {
      "name": "python",
      "version": "3.8.0"
    }
  },
  "nbformat": 4,
  "nbformat_minor": 0
}